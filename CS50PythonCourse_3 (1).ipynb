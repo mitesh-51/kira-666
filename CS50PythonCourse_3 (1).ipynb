{
 "cells": [
  {
   "cell_type": "markdown",
   "id": "edcb519c",
   "metadata": {},
   "source": [
    "# OOP Concepts in Python"
   ]
  },
  {
   "cell_type": "code",
   "execution_count": null,
   "id": "ab9d2e9d",
   "metadata": {},
   "outputs": [],
   "source": [
    "name = input(\"Name: \")\n",
    "house = input(\"House: \")\n",
    "print(f\"{name} from {house}\")"
   ]
  },
  {
   "cell_type": "code",
   "execution_count": null,
   "id": "e1b51826",
   "metadata": {},
   "outputs": [],
   "source": [
    "def main():\n",
    "    name = get_name()\n",
    "    house = get_house()\n",
    "    print(f\"{name} from {house}\")\n",
    "\n",
    "def get_name():\n",
    "    return input(\"Name: \")\n",
    "\n",
    "def get_house():\n",
    "    return input(\"House: \")\n",
    "\n",
    "if __name__ == \"__main__\""
   ]
  },
  {
   "cell_type": "code",
   "execution_count": null,
   "id": "5d47729f",
   "metadata": {},
   "outputs": [],
   "source": [
    "#Tuples: immutable- values can't be changed\n",
    "# List: mutable - values can be changed\n",
    "def main():\n",
    "    student = get_student()      #comma separated integration\n",
    "    if student[0] == \"Padma\":\n",
    "        student[1] = \"Ravenclaw\"\n",
    "    print(f\"{student[0]} from {student[1]}\")\n",
    "\n",
    "def get_student():\n",
    "    name = input(\"Name: \")\n",
    "    house = input(\"House: \")\n",
    "#     return (name, house)  # comma indicate that a tuple of 2 items is being returned\n",
    "    return [name, house] #setting the return value to a list will allow change in contents of the list\n",
    "\n",
    "if __name__ == \"__main__\": #set module\n",
    "    main()"
   ]
  },
  {
   "cell_type": "code",
   "execution_count": null,
   "id": "44b0ba80",
   "metadata": {},
   "outputs": [],
   "source": [
    "#Dictonaries- Mutable\n",
    "def main():\n",
    "    student = get_student()      \n",
    "    if student [\"name\"] == \"Padma\":\n",
    "        student [\"house\"] = \"Ravenclaw\"\n",
    "    print(f\"{student['name']} from {student['house']}\") #double quotes can'be used in case dict obj after f-string\n",
    "          \n",
    "def get_student():\n",
    "    name = input(\"Name: \")\n",
    "    house = input(\"House: \")\n",
    "    return {\"name\": name, \"house\": house}\n",
    "\n",
    "if __name__ == \"__main__\":\n",
    "    main()\n",
    "          "
   ]
  },
  {
   "cell_type": "code",
   "execution_count": null,
   "id": "fc5493ec",
   "metadata": {},
   "outputs": [],
   "source": [
    "#Classes & Objects\n",
    "#Classes helps to define self object;\n",
    "#         has atttributes to help the syntax using a dot(.)\n",
    "class Student:    #created a custom data type Student\n",
    "    ...                                                  #... is used to for later implementation of the defined class\n",
    "      \n",
    "def main():\n",
    "    student = get_student()      \n",
    "#     if student [\"name\"] == \"Padma\":\n",
    "#         student [\"house\"] = \"Ravenclaw\"\n",
    "    print(f\"{student.name} from {student.house}\") #double quotes can'be used in case dict obj after f-string\n",
    "          \n",
    "def get_student():\n",
    "    student = Student()  #calling the class Student()\n",
    "    student.name = input(\"Name: \")   #assign name attribute to the class\n",
    "    student.house = input(\"House: \") #assign house attribute to the class\n",
    "    return student\n",
    "\n",
    "if __name__ == \"__main__\":\n",
    "    main()"
   ]
  },
  {
   "cell_type": "code",
   "execution_count": null,
   "id": "f8d0b279",
   "metadata": {},
   "outputs": [],
   "source": [
    "#Objects are called as instance variable\n",
    "class Student:                                        #created a custom data type Student\n",
    "    def __init__(self, name, house, patronus):             #__init__to initialize contents of an object in the class\n",
    "        if not name:\n",
    "            raise ValueError(\"Missing name\")       #raise is an exception that one can create to check error handling\n",
    "        if house not in [\"Gryffindor\", \"Hufflepuff\", \"Ravenclaw\", \"Slytherin\"]:\n",
    "            raise ValueError(\"Invalid house\")\n",
    "        self.name = name\n",
    "        self.house = house\n",
    "        self.patronus = patronus\n",
    "    \n",
    "    def __str__(self):           #__str__ if defined in class object will have string character; take 1 arg (self)\n",
    "        return f\"{self.name} from {self.house} and {self.patronus}\" #pass this to print(student) in main() fn\n",
    "        \n",
    "def main():\n",
    "    student = get_student()      \n",
    "#     if student [\"name\"] == \"Padma\":\n",
    "# #         student [\"house\"] = \"Ravenclaw\"\n",
    "#     print(f\"{student.name} from {student.house}\") #access the object values using(.)\n",
    "    print(student)\n",
    "    \n",
    "def get_student():\n",
    "    name = input(\"Name: \")   #assign name attribute to the class\n",
    "    house = input(\"House: \") #assign house attribute to the class\n",
    "    patronus = input(\"Patronus: \")\n",
    "    return Student(name, house, patronus)  # Student() is the one which creates an object within the class Student:\n",
    "    \"\"\"Student fn same as classs defined above; student object is created by using Student class as function\n",
    "                                        Student(name, house) this willl create a constructor call\"\"\"\n",
    "    \n",
    "#name & house are the instance variables insided the object whose data type is student\n",
    "\n",
    "if __name__ == \"__main__\":\n",
    "    main()"
   ]
  },
  {
   "cell_type": "markdown",
   "id": "89e3565a",
   "metadata": {},
   "source": [
    "### Methods in CLasses allow to determine the behaviour in a standard way"
   ]
  },
  {
   "cell_type": "code",
   "execution_count": 7,
   "id": "dc6290ac",
   "metadata": {},
   "outputs": [
    {
     "name": "stdout",
     "output_type": "stream",
     "text": [
      "Name: Harry\n",
      "House: Slytherin\n",
      "Patronus: \n",
      "Expecto Patronum\n",
      "{'🪄'}\n"
     ]
    }
   ],
   "source": [
    "#custom methods\n",
    "#function inside of a class called Methods\n",
    "class Student:                                        \n",
    "    def __init__(self, name, house, patronus):            \n",
    "        if not name:\n",
    "            raise ValueError(\"Missing name\")       \n",
    "        if house not in [\"Gryffindor\", \"Hufflepuff\", \"Ravenclaw\", \"Slytherin\"]:\n",
    "            raise ValueError(\"Invalid house\")\n",
    "        self.name = name\n",
    "        self.house = house\n",
    "        self.patronus = patronus\n",
    "    \n",
    "    def __str__(self):           \n",
    "        return f\"{self.name} from {self.house} and {self.patronus}\"\n",
    "    \n",
    "#     def charm(self):\n",
    "#         match self.patronus:       #using match case to return value to the function\n",
    "#             case \"Stag\":\n",
    "#                 return \"🐴\"\n",
    "#             case \"Otter\":\n",
    "#                 return \"\\U0001f9a6\"\n",
    "#             case \"Jack Russell terrier\":\n",
    "#                 return \"\\U0001f436\"\n",
    "#             case _:\n",
    "#                 return \"\"\n",
    "    def charm(self):\n",
    "        if self.patronus == \"Stag\":\n",
    "            return \"🐴\"\n",
    "        if self.patronus == \"Otter\":\n",
    "            return \"\\U0001f9a6\"\n",
    "        if self.patronus == \"jack Russell terrier\":\n",
    "            return \"\\U0001f436\"\n",
    "        else:\n",
    "            return \"\\U0001fa84\"\n",
    "        \n",
    "        \n",
    "def main():\n",
    "    student = get_student()      \n",
    "    print(\"Expecto Patronum\")\n",
    "    print({student.charm()})\n",
    "\n",
    "def get_student():\n",
    "    name = input(\"Name: \")   #assign name attribute to the class\n",
    "    house = input(\"House: \") #assign house attribute to the class\n",
    "    patronus = input(\"Patronus: \")\n",
    "    return Student(name, house, patronus)  # Student() is the one which creates an object within the class Student:\n",
    "    \"\"\"Student fn same as classs defined above; student object is created by using Student class as function\n",
    "                                        Student(name, house) this willl create a constructor call\"\"\"\n",
    "    \n",
    "#name & house are the instance variables insided the object whose data type is student\n",
    "\n",
    "if __name__ == \"__main__\":\n",
    "    main()"
   ]
  },
  {
   "cell_type": "code",
   "execution_count": 27,
   "id": "881af35a",
   "metadata": {},
   "outputs": [
    {
     "name": "stdout",
     "output_type": "stream",
     "text": [
      "Name: Harry\n",
      "House: Gryffindor\n",
      "Harry from Gryffindor\n"
     ]
    }
   ],
   "source": [
    "#properties are attribute. \n",
    "#@property- fn in Python\n",
    "\n",
    "class Student:                                        \n",
    "    def __init__(self, name, house):             \n",
    "        if not name:\n",
    "            raise ValueError(\"Missing name\")       \n",
    "##below not required as the setter fn will do the error check        \n",
    "        \"\"\"if house not in [\"Gryffindor\", \"Hufflepuff\", \"Ravenclaw\", \"Slytherin\"]: \n",
    "            raise ValueError(\"Invalid house)\"\"\"\n",
    "        self.name = name\n",
    "        self.house = house        \n",
    "    \n",
    "    def __str__(self):           \n",
    "        return f\"{self.name} from {self.house}\" \n",
    " \n",
    "\n",
    "# decorator function\n",
    "    @property          #getter\n",
    "    def name(self):\n",
    "        return self._name\n",
    "    \n",
    "    @name.setter       #setter\n",
    "    def name(self, name):\n",
    "        if not name:\n",
    "            raise ValueError(\"Missing name\")\n",
    "        self._name = name\n",
    "    \n",
    "    \n",
    "    @property             #getter >- a function in the class which get some attribute; @property is a decorator\n",
    "    def house(self):\n",
    "        return self._house  \n",
    "    \"\"\"#instance variable is set as \"_house\" otherwise \n",
    "    there will be a clash with the fn house()  and instance variable house in \"__init__\"\n",
    "    \"\"\"\n",
    "    @house.setter            #setter -> fn in the class set some attribute ; @house.setter is a decorator\n",
    "    def house(self, house):\n",
    "        if house not in [\"Gryffindor\", \"Hufflepuff\", \"Ravenclaw\", \"Slytherin\"]:\n",
    "            raise NameError(\"invalid House\")\n",
    "        self._house = house\n",
    "\n",
    "#function main()\n",
    "        \n",
    "def main():\n",
    "    student = get_student()   \n",
    "#     student._house = \"Sector -15, F/78\"  #making changes in house object will throws an error due to setter function\n",
    "    print(student)\n",
    "    \n",
    "def get_student():\n",
    "    name = input(\"Name: \")   \n",
    "    house = input(\"House: \") \n",
    "    return Student(name, house)\n",
    "\n",
    "if __name__ == \"__main__\":\n",
    "    main()"
   ]
  },
  {
   "cell_type": "code",
   "execution_count": 34,
   "id": "8ae15c36",
   "metadata": {},
   "outputs": [
    {
     "name": "stdout",
     "output_type": "stream",
     "text": [
      "<class 'int'>\n",
      "<class 'str'>\n",
      "<class 'list'>\n",
      "<class 'tuple'>\n",
      "<class 'list'>\n",
      "<class 'dict'>\n"
     ]
    }
   ],
   "source": [
    "#Types and classes\n",
    "\n",
    "print(type(50))\n",
    "print(type(\"Hello!\"))\n",
    "print(type([]))\n",
    "print(type(()))\n",
    "print(type(list()))\n",
    "print(type({}))"
   ]
  },
  {
   "cell_type": "code",
   "execution_count": 60,
   "id": "b3688434",
   "metadata": {},
   "outputs": [
    {
     "name": "stdout",
     "output_type": "stream",
     "text": [
      "Harry is in Hufflepuff\n"
     ]
    }
   ],
   "source": [
    "#ClassMethods\n",
    "#@classmethods\n",
    "import random\n",
    "class Hat:\n",
    "    houses = [\"Gryffindor\", \"Hufflepuff\", \"Slytherin\", \"Ravenclaw\"]\n",
    "    \n",
    "    @classmethod      #decorator in Python used to modify the variable to a class variable\n",
    "    def sort(cls, name):       #cls is used for classmethods instead of self\n",
    "        print(name, \"is in\", random.choice(cls.houses)) #cls.house is a class variable not an instance variable\n",
    "        \n",
    "\n",
    "Hat.sort(\"Harry\")\n"
   ]
  },
  {
   "cell_type": "code",
   "execution_count": 67,
   "id": "b5ed20c4",
   "metadata": {},
   "outputs": [
    {
     "name": "stdout",
     "output_type": "stream",
     "text": [
      "Name: \n",
      "House: \n",
      " from \n"
     ]
    }
   ],
   "source": [
    "class Student:                                        \n",
    "    def __init__(self, name, house): \n",
    "        self.name = name\n",
    "        self.house = house        \n",
    "    \n",
    "    def __str__(self):           \n",
    "        return f\"{self.name} from {self.house}\"\n",
    "    \n",
    "#decorator fn    \n",
    "    @classmethod\n",
    "    def get(cls):    #it is a class method which can be called without instantiating a student object 1st\n",
    "        name = input(\"Name: \")\n",
    "        house = input(\"House: \")\n",
    "        return cls(name, house)\n",
    "\n",
    "\n",
    "#function main()\n",
    "        \n",
    "def main():\n",
    "    student = Student.get()    \n",
    "    print(student)\n",
    "\n",
    "if __name__ == \"__main__\":\n",
    "    main()"
   ]
  },
  {
   "cell_type": "code",
   "execution_count": 66,
   "id": "50220d22",
   "metadata": {},
   "outputs": [],
   "source": [
    "#staticmethod\n",
    "#@staticmethod \n",
    "\n",
    "#inheritance\n",
    "\n",
    "class Wizard:\n",
    "    def __init__(self, name):\n",
    "        if not name:\n",
    "            raise ValueError(\"Missing name\")\n",
    "    ...\n",
    "\n",
    "class Student(Wizard):      #inherit characteristics of Wizard class\n",
    "    def __init__(self,name, house): \n",
    "        super().__init__(name) #super() reference to the init method of Wizard class\n",
    "        self.house = house\n",
    "\n",
    "class Professor(Wizard):     #inherit characteristics of Wizard clas\n",
    "    def __init__(self,name, subject):   \n",
    "        super().__init__(name)  #super() reference to the init method of Wizard class\n",
    "        self.subject = subject\n",
    "    ...\n",
    "\n",
    "wizard = Wizard(\"Albus\")\n",
    "student =Student(\"Harry\", \"Gryffindor\")\n",
    "professor = Professor(\"Severus\", \"Defense Against the Darlk Arts\")"
   ]
  },
  {
   "cell_type": "code",
   "execution_count": 73,
   "id": "c9f5094e",
   "metadata": {},
   "outputs": [
    {
     "name": "stdout",
     "output_type": "stream",
     "text": [
      "100 Galleon, 50 Sickles, 25 Knuts\n",
      "25 Galleon, 50 Sickles, 100 Knuts\n",
      "125 Galleon, 100 Sickles, 125 Knuts\n"
     ]
    }
   ],
   "source": [
    "#operator overloading\n",
    "\n",
    "class Vault:\n",
    "    def __init__(self, galleons = 0, sickles =0, knuts = 0):\n",
    "        self.galleons = galleons\n",
    "        self.sickles = sickles\n",
    "        self.knuts = knuts\n",
    "    \n",
    "    def __str__(self):\n",
    "        return f\"{self.galleons} Galleon, {self.sickles} Sickles, {self.knuts} Knuts\"\n",
    "    \n",
    "    def __add__(self, other):  #__add__ pass Potter(L) and weasley(R) to the operator\n",
    "        galleons = self.galleons + other.galleons\n",
    "        sickles = self.sickles + other.sickles\n",
    "        knuts = self.knuts + other.knuts\n",
    "        return Vault(galleons, sickles, knuts) \n",
    "\n",
    "potter = Vault(100,50,25)\n",
    "print(potter)\n",
    "\n",
    "weasley = Vault(25,50,100)\n",
    "print(weasley)\n",
    "\n",
    "# galleons = potter.galleons + weasley.galleons\n",
    "# sickles = potter.sickles + weasley.sickles\n",
    "# knuts = potter.knuts + weasley.knuts\n",
    "\n",
    "# total = Vault(galleons, sickles, knuts)\n",
    "total = potter + weasley  #overloaded operator\n",
    "print(total)"
   ]
  },
  {
   "cell_type": "code",
   "execution_count": null,
   "id": "1f008777",
   "metadata": {},
   "outputs": [],
   "source": []
  },
  {
   "cell_type": "code",
   "execution_count": null,
   "id": "1102a169",
   "metadata": {},
   "outputs": [],
   "source": []
  }
 ],
 "metadata": {
  "kernelspec": {
   "display_name": "Python 3 (ipykernel)",
   "language": "python",
   "name": "python3"
  },
  "language_info": {
   "codemirror_mode": {
    "name": "ipython",
    "version": 3
   },
   "file_extension": ".py",
   "mimetype": "text/x-python",
   "name": "python",
   "nbconvert_exporter": "python",
   "pygments_lexer": "ipython3",
   "version": "3.11.4"
  }
 },
 "nbformat": 4,
 "nbformat_minor": 5
}
